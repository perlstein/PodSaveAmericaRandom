{
  "nbformat": 4,
  "nbformat_minor": 0,
  "metadata": {
    "colab": {
      "name": "Pod Save America Title Generator.ipynb",
      "provenance": [],
      "collapsed_sections": [],
      "authorship_tag": "ABX9TyPDaVwmVw+ScQgPwk/QE18o",
      "include_colab_link": true
    },
    "kernelspec": {
      "name": "python3",
      "display_name": "Python 3"
    }
  },
  "cells": [
    {
      "cell_type": "markdown",
      "metadata": {
        "id": "view-in-github",
        "colab_type": "text"
      },
      "source": [
        "<a href=\"https://colab.research.google.com/github/perlstein/PodSaveAmericaRandom/blob/master/Pod_Save_America_Title_Generator.ipynb\" target=\"_parent\"><img src=\"https://colab.research.google.com/assets/colab-badge.svg\" alt=\"Open In Colab\"/></a>"
      ]
    },
    {
      "cell_type": "code",
      "metadata": {
        "id": "C7eR0cUvRqfM",
        "colab_type": "code",
        "colab": {
          "base_uri": "https://localhost:8080/",
          "height": 34
        },
        "outputId": "60b66495-f855-4caf-a041-cbed49049efe"
      },
      "source": [
        "# Pod Save America Title Generator\n",
        "import random\n",
        "\n",
        "#Word Buckets\n",
        "democrats = (\"Joe Biden\", \"Kamala Harris\",\"AOC\",\"Barack Obama\",\"Bernie Sanders\",\"Bill Clinton\",\"Elizabeth Warren\")\n",
        "republicans= (\"Donald Trump\",\"Donny\",\"Mitt Romney\",\"Steve King\",\"Michael Steele\",\"Orrin Hatch\", \"John Kasich\",\"Jason Chaffetz\",\"Chris Christie\",\"Rick Scott\",\"Mike Pence\",\"Sarah Palin\",\"Ted Cruz\",\"Mitch McConnell\", \"Newt Gengrich\", \"Marco Rubio\",\"Jared Kushner\",\"Ivanka Trump\", \"One of The Trump Boys\", \"Nikke Haley\",\"Wayne LaPierre\" )\n",
        "culture= ('Hot Girl Summer','Animal Crossing Island',\"Project Power Power\",\"Spirit Animal\",\"Pumpkin Spice Everything\", \"Favorite Episodeo of The Office\", )\n",
        "fear=(\"Antifa Uprising\", \"Totally Fake Global Pandemic\",\"Obamagate\",\"Bengahzi Cover Up\",\"Marajiuana for Seniors\")\n",
        "fearverb=(\"Hides In The Bunker\", \"Goes on a Twitter Rampage\",\"Leaks\",)\n",
        "actualbad = (\"A Raging Pandemic\", \"Rule Breaking Cops\",\"The Rich Get Richer\",\"A Stock Market Boner\",\"A Collapsing Middle Class\",\"Rising Death Toll\",\"Fox News\",\"Breitbart\",\"Racists\",\"Homophobes\",\"Russian Troll Farms\",\"Sliding Into The DMs\")\n",
        "like=(\"Admires\",\"Is Pro\",\"likes\",\"Fancies\", \"Delights in\",\"Dotes On\",\"Has Taken a Shine To\",\"Ships\")\n",
        "action = (\"Dunks On\",\"Vetoes\", \"Demands\",\"Spills The Tea On\",\"Wont Back Down To\")\n",
        "reasons =(\"Cause YOLO\", \"to spite \"+random.choice(democrats),\"to appease \"+random.choice(actualbad))\n",
        "nongood= (\"Hydroxy\",\"Thoughts and Prayers\",\"Assult Rifles\",\"Open Carry Laws\",)\n",
        "\n",
        "#Create Title Types\n",
        "def demactsrepsrand ():\n",
        "  d=random.choice(democrats)\n",
        "  a=random.choice(action)\n",
        "  r=random.choice(republicans)\n",
        "  c=random.choice(culture)\n",
        "  print(d,a, (r+\"'s\"),c)\n",
        "\n",
        "def republicansscared ():\n",
        "  d=random.choice(democrats)\n",
        "  a=random.choice(action)\n",
        "  f=random.choice(fear)\n",
        "  fv=random.choice(fearverb)\n",
        "  r=random.choice(republicans)\n",
        "  c=random.choice(culture)\n",
        "  print(r,fv, \"Because of\",(d+\"'s\"),f)\n",
        "\n",
        "def replikesbad ():\n",
        "  d=random.choice(democrats)\n",
        "  a=random.choice(action)\n",
        "  f=random.choice(fear)\n",
        "  fv=random.choice(fearverb)\n",
        "  ab=random.choice(actualbad)\n",
        "  r=random.choice(republicans)\n",
        "  c=random.choice(culture)\n",
        "  l=random.choice(like)\n",
        "  re=random.choice(reasons)\n",
        "  print(r,l, ab, re)\n",
        "\n",
        "def culturebad ():\n",
        "  d=random.choice(democrats)\n",
        "  a=random.choice(action)\n",
        "  f=random.choice(fear)\n",
        "  fv=random.choice(fearverb)\n",
        "  ab=random.choice(actualbad)\n",
        "  r=random.choice(republicans)\n",
        "  c=random.choice(culture)\n",
        "  l=random.choice(like)\n",
        "  re=random.choice(reasons)\n",
        "  print((ab+\"'s\"),c)\n",
        "\n",
        "titletype = (demactsrepsrand, republicansscared,replikesbad,culturebad)\n",
        "random.choice(titletype)()\n"
      ],
      "execution_count": 168,
      "outputs": [
        {
          "output_type": "stream",
          "text": [
            "Mike Pence Hides In The Bunker Because of Bill Clinton's Antifa Uprising\n"
          ],
          "name": "stdout"
        }
      ]
    }
  ]
}